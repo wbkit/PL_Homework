{
 "cells": [
  {
   "cell_type": "code",
   "execution_count": 2,
   "id": "92cec0c1",
   "metadata": {},
   "outputs": [
    {
     "name": "stdout",
     "output_type": "stream",
     "text": [
      "The autoreload extension is already loaded. To reload it, use:\n",
      "  %reload_ext autoreload\n"
     ]
    }
   ],
   "source": [
    "%load_ext autoreload\n",
    "%autoreload 2\n",
    "\n",
    "import os\n",
    "import typing\n",
    "import math\n",
    "\n",
    "import numpy as np\n",
    "import torch\n",
    "\n",
    "import torch.optim\n",
    "from matplotlib import pyplot as plt\n",
    "from sklearn.metrics import roc_auc_score, average_precision_score\n",
    "from torch import nn\n",
    "from torch.nn import functional as F\n",
    "from tqdm import trange\n",
    "\n",
    "from util import ece, ParameterDistribution\n",
    "\n",
    "\n"
   ]
  },
  {
   "cell_type": "code",
   "execution_count": 3,
   "id": "d0838d02",
   "metadata": {},
   "outputs": [],
   "source": [
    "from solution import *\n",
    "from torch.distributions.multivariate_normal import MultivariateNormal\n",
    "from torch.distributions.normal import Normal"
   ]
  },
  {
   "cell_type": "markdown",
   "id": "95704a51",
   "metadata": {},
   "source": [
    "### UnivariateGaussian"
   ]
  },
  {
   "cell_type": "code",
   "execution_count": 4,
   "id": "367e34f1",
   "metadata": {},
   "outputs": [],
   "source": [
    "mu = torch.tensor(2).double()\n",
    "sigma = torch.tensor(5).double()\n",
    "\n",
    "normal_distr = UnivariateGaussian(mu, sigma)\n",
    "normal_distr_torch = Normal(mu, sigma)"
   ]
  },
  {
   "cell_type": "code",
   "execution_count": 5,
   "id": "75094a8b",
   "metadata": {
    "scrolled": false
   },
   "outputs": [
    {
     "data": {
      "text/plain": "tensor(-30227.6816)"
     },
     "execution_count": 5,
     "metadata": {},
     "output_type": "execute_result"
    }
   ],
   "source": [
    "values = torch.normal(mu, sigma, size=(1, 10000))\n",
    "normal_distr.log_likelihood(values)\n"
   ]
  },
  {
   "cell_type": "markdown",
   "id": "660912d3",
   "metadata": {},
   "source": [
    "### MultivariateDiagonalGaussian"
   ]
  },
  {
   "cell_type": "code",
   "execution_count": 6,
   "id": "3ca730e4",
   "metadata": {},
   "outputs": [
    {
     "data": {
      "text/plain": "tensor(-24.4566)"
     },
     "execution_count": 6,
     "metadata": {},
     "output_type": "execute_result"
    }
   ],
   "source": [
    "out_features = 4\n",
    "in_features= 3\n",
    "\n",
    "mu = torch.rand(out_features, in_features)\n",
    "rho = torch.rand(out_features, in_features)\n",
    "\n",
    "multivar_diag = MultivariateDiagonalGaussian(mu, rho)\n",
    "w_sampled = multivar_diag.sample()\n",
    "multivar_diag.log_likelihood(w_sampled)\n",
    "\n",
    "\n"
   ]
  },
  {
   "cell_type": "markdown",
   "id": "062b3d13",
   "metadata": {},
   "source": [
    "### Bayesian  Layer"
   ]
  },
  {
   "cell_type": "code",
   "execution_count": 21,
   "id": "36f2d207",
   "metadata": {},
   "outputs": [],
   "source": [
    "out_features = 4\n",
    "in_features= 3\n",
    "hidden_features = (16, 8, 8)\n",
    "\n",
    "posterior_mu_init = 0\n",
    "posterior_rho_init = -7.0\n",
    "\n",
    "weight_mu = nn.Parameter(torch.Tensor(out_features, in_features).normal_(posterior_mu_init, 0.1))\n",
    "weight_rho = nn.Parameter(torch.Tensor(out_features, in_features).normal_(posterior_rho_init, 0.1))"
   ]
  },
  {
   "cell_type": "code",
   "execution_count": 22,
   "id": "faeb7856",
   "metadata": {},
   "outputs": [],
   "source": [
    "layer = BayesianLayer(in_features, out_features, True)\n"
   ]
  },
  {
   "cell_type": "code",
   "execution_count": 23,
   "id": "b6865533",
   "metadata": {},
   "outputs": [
    {
     "name": "stdout",
     "output_type": "stream",
     "text": [
      "torch.Size([4, 3])\n",
      "torch.Size([4])\n",
      "tensor(-21.7486, grad_fn=<AddBackward0>) torch.Size([])\n",
      "tensor(-31.1485, grad_fn=<AddBackward0>) torch.Size([])\n"
     ]
    },
    {
     "data": {
      "text/plain": "(tensor([[-2.6316,  1.7399,  0.1818,  1.4296],\n         [-2.2322,  1.4679,  0.5731,  0.7393],\n         [-2.2283,  1.4332, -0.4103,  0.3894],\n         [-1.6370,  1.3735,  0.4285,  0.9613],\n         [-3.5842,  1.7121, -0.2501,  0.1370],\n         [-1.6185,  1.4763,  0.4632,  1.4515],\n         [-1.1835,  1.2317,  0.6357,  0.8804],\n         [-2.6657,  1.5155,  0.4268,  0.4321],\n         [-2.6861,  1.8028,  0.4160,  1.6978],\n         [-3.2765,  1.9183,  0.3285,  1.5295],\n         [-2.3489,  1.5723, -0.0137,  0.9578],\n         [-3.6382,  1.8506,  0.2129,  0.7918],\n         [-3.7019,  1.8915,  0.3153,  0.9239],\n         [-1.5076,  1.2989, -0.0141,  0.6836],\n         [-1.0024,  1.2089,  0.6373,  0.9836],\n         [-2.5920,  1.8123, -0.1415,  1.7349]], grad_fn=<AddmmBackward>),\n tensor(-21.7486, grad_fn=<AddBackward0>),\n tensor(-31.1485, grad_fn=<AddBackward0>))"
     },
     "execution_count": 23,
     "metadata": {},
     "output_type": "execute_result"
    }
   ],
   "source": [
    "batch_size = 16\n",
    "\n",
    "inputs = torch.rand(batch_size, in_features)\n",
    "layer.forward(inputs)\n",
    "\n",
    "\n"
   ]
  },
  {
   "cell_type": "code",
   "execution_count": 24,
   "outputs": [],
   "source": [
    "bayes_net = BayesNet(in_features=in_features,\n",
    "                     out_features=out_features,\n",
    "                     hidden_features=hidden_features)"
   ],
   "metadata": {
    "collapsed": false,
    "pycharm": {
     "name": "#%%\n"
    }
   }
  },
  {
   "cell_type": "code",
   "execution_count": 26,
   "outputs": [
    {
     "data": {
      "text/plain": "(tensor([[ 18.5998, -15.2754,  -2.1326,  20.1545],\n         [ 15.1028,   9.3524,   5.8433,   6.4324],\n         [ 10.2882,  -7.9667,  -7.1372,  13.1421],\n         [ 20.0697,   3.1555,  24.0921,  11.0891],\n         [ 18.5405, -14.1652, -13.8131,  19.9326],\n         [ 30.2897, -27.2383,  38.2905,  16.7900],\n         [ 22.7071,   5.3116,  41.9271,   7.1599],\n         [  7.7026,   0.6955,  -3.8975,   4.7778],\n         [ 28.5747, -28.1307,  15.9455,  21.7918],\n         [ 20.3746, -15.0860, -13.1918,  22.4705],\n         [ 15.5982, -10.9015, -10.5652,  17.0264],\n         [ 21.2267, -16.0375, -15.3160,  22.4705],\n         [ 22.6897, -17.0195, -15.9610,  23.9374],\n         [ 16.3782,   5.7304,   4.1247,   9.1891],\n         [ 25.9157,  -4.8992,  45.7600,   9.8269],\n         [ 18.0695, -18.2578,  -3.6295,  19.4580]], grad_fn=<AddmmBackward>),\n tensor(-67.9848, grad_fn=<AddBackward0>),\n tensor(-81.1299, grad_fn=<AddBackward0>))"
     },
     "execution_count": 26,
     "metadata": {},
     "output_type": "execute_result"
    }
   ],
   "source": [
    "bayes_net.forward(inputs)"
   ],
   "metadata": {
    "collapsed": false,
    "pycharm": {
     "name": "#%%\n"
    }
   }
  },
  {
   "cell_type": "code",
   "execution_count": null,
   "outputs": [],
   "source": [],
   "metadata": {
    "collapsed": false,
    "pycharm": {
     "name": "#%%\n"
    }
   }
  }
 ],
 "metadata": {
  "kernelspec": {
   "display_name": "deeppy",
   "language": "python",
   "name": "deeppy"
  },
  "language_info": {
   "codemirror_mode": {
    "name": "ipython",
    "version": 3
   },
   "file_extension": ".py",
   "mimetype": "text/x-python",
   "name": "python",
   "nbconvert_exporter": "python",
   "pygments_lexer": "ipython3",
   "version": "3.7.11"
  }
 },
 "nbformat": 4,
 "nbformat_minor": 5
}