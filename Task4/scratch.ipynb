{
 "cells": [
  {
   "cell_type": "code",
   "execution_count": 116,
   "metadata": {
    "collapsed": true
   },
   "outputs": [
    {
     "name": "stdout",
     "output_type": "stream",
     "text": [
      "The autoreload extension is already loaded. To reload it, use:\n",
      "  %reload_ext autoreload\n"
     ]
    }
   ],
   "source": [
    "%load_ext autoreload\n",
    "%autoreload 2\n",
    "\n",
    "from lunar_lander import LunarLander\n",
    "from gym.wrappers.monitoring.video_recorder import VideoRecorder\n",
    "import torch\n",
    "import numpy as np\n",
    "\n",
    "from solution import MLPCritic, MLPActorCritic, MLPCategoricalActor\n",
    "from solution import *"
   ]
  },
  {
   "cell_type": "code",
   "execution_count": 7,
   "outputs": [
    {
     "name": "stdout",
     "output_type": "stream",
     "text": [
      "Evaluating agent...\n"
     ]
    }
   ],
   "source": [
    "env = LunarLander()\n",
    "\n",
    "\n",
    "rec = VideoRecorder(env, \"policy.mp4\")\n",
    "episode_length = 300\n",
    "n_eval = 100\n",
    "returns = []\n",
    "print(\"Evaluating agent...\")"
   ],
   "metadata": {
    "collapsed": false,
    "pycharm": {
     "name": "#%%\n"
    }
   }
  },
  {
   "cell_type": "code",
   "execution_count": 17,
   "outputs": [
    {
     "data": {
      "text/plain": "torch.Size([8])"
     },
     "execution_count": 17,
     "metadata": {},
     "output_type": "execute_result"
    }
   ],
   "source": [
    "state = env.reset()\n",
    "state_tensor = torch.tensor(state)\n",
    "state_tensor.shape"
   ],
   "metadata": {
    "collapsed": false,
    "pycharm": {
     "name": "#%%\n"
    }
   }
  },
  {
   "cell_type": "code",
   "execution_count": 41,
   "outputs": [],
   "source": [
    "ac = MLPActorCritic()\n",
    "\n",
    "a, v, logp_a = ac.step(state_tensor)\n"
   ],
   "metadata": {
    "collapsed": false,
    "pycharm": {
     "name": "#%%\n"
    }
   }
  },
  {
   "cell_type": "code",
   "execution_count": 58,
   "outputs": [],
   "source": [
    "obs_dim = [8]\n",
    "act_dim = []\n",
    "\n",
    "# Training parameters\n",
    "# You may wish to change the following settings for the buffer and training\n",
    "# Number of training steps per epoch\n",
    "steps_per_epoch = 3000\n",
    "# Number of epochs to train for\n",
    "epochs = 50\n",
    "# The longest an episode can go on before cutting it off\n",
    "max_ep_len = 300\n",
    "# Discount factor for weighting future rewards\n",
    "gamma = 0.99\n",
    "lam = 0.97"
   ],
   "metadata": {
    "collapsed": false,
    "pycharm": {
     "name": "#%%\n"
    }
   }
  },
  {
   "cell_type": "code",
   "execution_count": 138,
   "outputs": [
    {
     "name": "stdout",
     "output_type": "stream",
     "text": [
      "tensor(0)\n"
     ]
    }
   ],
   "source": [
    "# Set up buffer\n",
    "buf = VPGBuffer(obs_dim, act_dim, steps_per_epoch, gamma, lam)\n",
    "\n",
    "state, ep_ret, ep_len = env.reset(), 0, 0\n",
    "a, v, logp = ac.step(torch.as_tensor(state, dtype=torch.float32))\n",
    "print(a)\n",
    "next_state, r, terminal = env.transition(int(a))\n",
    "# Log transition\n",
    "buf.store(state, a, r, v, logp)\n",
    "buf.store(state, a, r, v, logp)\n",
    "buf.store(state, a, r, v, logp)"
   ],
   "metadata": {
    "collapsed": false,
    "pycharm": {
     "name": "#%%\n"
    }
   }
  },
  {
   "cell_type": "code",
   "execution_count": 115,
   "outputs": [],
   "source": [
    "buf.end_traj()"
   ],
   "metadata": {
    "collapsed": false,
    "pycharm": {
     "name": "#%%\n"
    }
   }
  },
  {
   "cell_type": "code",
   "execution_count": 139,
   "outputs": [
    {
     "data": {
      "text/plain": "array([1., 1., 1.])"
     },
     "execution_count": 139,
     "metadata": {},
     "output_type": "execute_result"
    }
   ],
   "source": [
    "np.ones(buf.ptr-buf.path_start_idx)"
   ],
   "metadata": {
    "collapsed": false,
    "pycharm": {
     "name": "#%%\n"
    }
   }
  },
  {
   "cell_type": "code",
   "execution_count": 140,
   "outputs": [
    {
     "data": {
      "text/plain": "array([5.67799854, 5.67799854, 5.67799854, 0.        ])"
     },
     "execution_count": 140,
     "metadata": {},
     "output_type": "execute_result"
    }
   ],
   "source": [
    "self = buf\n",
    "path_slice = slice(self.path_start_idx, self.ptr)\n",
    "rews = np.append(self.rew_buf[path_slice], 0)\n",
    "vals = np.append(self.val_buf[path_slice], 0)\n",
    "\n",
    "rews"
   ],
   "metadata": {
    "collapsed": false,
    "pycharm": {
     "name": "#%%\n"
    }
   }
  },
  {
   "cell_type": "code",
   "execution_count": 143,
   "outputs": [
    {
     "data": {
      "text/plain": "array([16.86422347, 11.2992171 ,  5.67799854,  0.        ])"
     },
     "execution_count": 143,
     "metadata": {},
     "output_type": "execute_result"
    }
   ],
   "source": [
    "discount_cumsum(rews, gamma)\n"
   ],
   "metadata": {
    "collapsed": false,
    "pycharm": {
     "name": "#%%\n"
    }
   }
  },
  {
   "cell_type": "code",
   "execution_count": 136,
   "outputs": [
    {
     "data": {
      "text/plain": "(3,)"
     },
     "execution_count": 136,
     "metadata": {},
     "output_type": "execute_result"
    }
   ],
   "source": [
    "discount_cumsum(rews[:self.ptr], self.gamma).shape"
   ],
   "metadata": {
    "collapsed": false,
    "pycharm": {
     "name": "#%%\n"
    }
   }
  },
  {
   "cell_type": "code",
   "execution_count": null,
   "outputs": [],
   "source": [],
   "metadata": {
    "collapsed": false,
    "pycharm": {
     "name": "#%%\n"
    }
   }
  }
 ],
 "metadata": {
  "kernelspec": {
   "display_name": "Python 3",
   "language": "python",
   "name": "python3"
  },
  "language_info": {
   "codemirror_mode": {
    "name": "ipython",
    "version": 2
   },
   "file_extension": ".py",
   "mimetype": "text/x-python",
   "name": "python",
   "nbconvert_exporter": "python",
   "pygments_lexer": "ipython2",
   "version": "2.7.6"
  }
 },
 "nbformat": 4,
 "nbformat_minor": 0
}